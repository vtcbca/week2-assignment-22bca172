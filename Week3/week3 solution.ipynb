{
 "cells": [
  {
   "cell_type": "code",
   "execution_count": 1,
   "id": "32ec1ff6",
   "metadata": {},
   "outputs": [],
   "source": [
    "import sqlite3"
   ]
  },
  {
   "cell_type": "code",
   "execution_count": 2,
   "id": "5f7913ba",
   "metadata": {},
   "outputs": [],
   "source": [
    "con=sqlite3.connect('ESM.db')"
   ]
  },
  {
   "cell_type": "code",
   "execution_count": 3,
   "id": "dd57654e",
   "metadata": {},
   "outputs": [],
   "source": [
    "cur=con.cursor()"
   ]
  },
  {
   "cell_type": "code",
   "execution_count": 4,
   "id": "c1916623",
   "metadata": {},
   "outputs": [],
   "source": [
    "def create_table():\n",
    "    q=\"create table Employee (eid int PRIMARY KEY, ename text, dept text, basic int, branch text)\"\n",
    "    cur.execute(q)\n",
    "    con.commit()"
   ]
  },
  {
   "cell_type": "code",
   "execution_count": 5,
   "id": "4a2e8c43",
   "metadata": {},
   "outputs": [],
   "source": [
    "def insert_records_directly():\n",
    "    q=\"insert into Employee values(?,?,?,?,?)\"\n",
    "    l=[(1,'om',' Account',5000,'Surat'),(2,'sai','HR', 5600, 'Mumbai'),(3,'ram','Account', 6000, 'Bangalore'),\n",
    "       (4,'anil','IT', 6200, 'Delhi'),(5,'sunil','Inventory', 4500, 'Surat')]\n",
    "    cur.executemany(q,l)\n",
    "    con.commit()"
   ]
  },
  {
   "cell_type": "code",
   "execution_count": 6,
   "id": "f5460a69",
   "metadata": {},
   "outputs": [],
   "source": [
    "def insert_records_user():\n",
    "    q=\"insert into Employee values(?,?,?,?,?)\"\n",
    "    l1=[]\n",
    "    for i in range(6,11):\n",
    "        eid=int(input(\"Enter employee id:\"))\n",
    "        ename=input(\"Enter employee name:\")\n",
    "        edept=input(\"Enter employee department:\")\n",
    "        ebasic=int(input(\"Enter employee basic:\"))\n",
    "        ebranch=input(\"Enter employee branch:\")\n",
    "        t=(eid,ename,edept,ebasic,ebranch)\n",
    "        l1.append(t)\n",
    "    cur.executemany(q,l1)\n",
    "    con.commit()"
   ]
  },
  {
   "cell_type": "code",
   "execution_count": 7,
   "id": "395dc7fc",
   "metadata": {},
   "outputs": [],
   "source": [
    "def update():\n",
    "    q=(\"UPDATE Employee SET basic = basic * 1.1 WHERE branch = 'Surat' \")\n",
    "    cur.execute(q)\n",
    "    con.commit()"
   ]
  },
  {
   "cell_type": "code",
   "execution_count": 8,
   "id": "776c97ae",
   "metadata": {},
   "outputs": [],
   "source": [
    "def print_record():\n",
    "    q=(\"select * from Employee\")\n",
    "    cur.execute(q)\n",
    "    r=cur.fetchall()\n",
    "    print(\"ALL Records:\")\n",
    "    for i in range(len(r)):\n",
    "        print(r[i])\n",
    "    con.commit()"
   ]
  },
  {
   "cell_type": "code",
   "execution_count": 9,
   "id": "107ec4a3",
   "metadata": {},
   "outputs": [],
   "source": [
    "def print_record_HR_IT():\n",
    "    q=(\"select * from Employee where dept='HR' OR dept='IT'\")\n",
    "    cur.execute(q)\n",
    "    r=cur.fetchall()\n",
    "    print(\"deprtment is HR and IT:\")\n",
    "    for i in range(len(r)):\n",
    "        print(r[i])\n",
    "    con.commit()"
   ]
  },
  {
   "cell_type": "code",
   "execution_count": 10,
   "id": "4470cd51",
   "metadata": {},
   "outputs": [],
   "source": [
    "def print_record_orderby_dept():\n",
    "    q=(\"select * from Employee ORDER BY dept\")\n",
    "    cur.execute(q)\n",
    "    r=cur.fetchall()\n",
    "    print(\"Record ORDER BY DEPT:\")\n",
    "    for i in range(len(r)):\n",
    "        print(r[i])\n",
    "    con.commit()"
   ]
  },
  {
   "cell_type": "code",
   "execution_count": 11,
   "id": "2010d692",
   "metadata": {},
   "outputs": [],
   "source": [
    "def print_record_basic():\n",
    "    q=(\"select * from Employee where basic>6000\")\n",
    "    cur.execute(q)\n",
    "    r=cur.fetchall()\n",
    "    print(\"Basic>6000:\")\n",
    "    for i in range(len(r)):\n",
    "        print(r[i])\n",
    "    con.commit()"
   ]
  },
  {
   "cell_type": "code",
   "execution_count": 12,
   "id": "a9385045",
   "metadata": {},
   "outputs": [],
   "source": [
    "def print_record_ename_seccond_char_r():\n",
    "    q=(\"select * from Employee where ename LIKE '_r%'\")\n",
    "    cur.execute(q)\n",
    "    r=cur.fetchall()\n",
    "    print(\"employee name second char is r:\")\n",
    "    for i in range(len(r)):\n",
    "        print(r[i])\n",
    "    con.commit()"
   ]
  },
  {
   "cell_type": "code",
   "execution_count": 13,
   "id": "bc1f8ce0",
   "metadata": {},
   "outputs": [],
   "source": [
    "def grouping():\n",
    "    q=(\"select dept,count(*) from Employee where dept IN('Account','Inventory') GROUP BY dept\")\n",
    "    cur.execute(q)\n",
    "    r=cur.fetchall()\n",
    "    print(\"Grouping:\")\n",
    "    for i in range(len(r)):\n",
    "        print(r[i])\n",
    "    con.commit()"
   ]
  },
  {
   "cell_type": "code",
   "execution_count": 14,
   "id": "098aee03",
   "metadata": {},
   "outputs": [],
   "source": [
    "def branch_descending():\n",
    "    q=(\"select * from Employee ORDER BY branch\")\n",
    "    cur.execute(q)\n",
    "    r=cur.fetchall()\n",
    "    print(\"branch name in descending order:\")\n",
    "    for i in range(len(r)):\n",
    "        print(r[i])\n",
    "    con.commit()"
   ]
  },
  {
   "cell_type": "code",
   "execution_count": 15,
   "id": "d59f2bcb",
   "metadata": {},
   "outputs": [],
   "source": [
    "create_table()"
   ]
  },
  {
   "cell_type": "code",
   "execution_count": 16,
   "id": "9abc75d1",
   "metadata": {},
   "outputs": [],
   "source": [
    "insert_records_directly()"
   ]
  },
  {
   "cell_type": "code",
   "execution_count": 17,
   "id": "1dbb15da",
   "metadata": {},
   "outputs": [
    {
     "name": "stdout",
     "output_type": "stream",
     "text": [
      "Enter employee id:6\n",
      "Enter employee name:ashok\n",
      "Enter employee department:HR\n",
      "Enter employee basic:6500\n",
      "Enter employee branch:Ahmadabad\n",
      "Enter employee id:7\n",
      "Enter employee name:bruce\n",
      "Enter employee department:Inventory\n",
      "Enter employee basic:5300\n",
      "Enter employee branch:Kolkata\n",
      "Enter employee id:8\n",
      "Enter employee name:vijay\n",
      "Enter employee department:IT\n",
      "Enter employee basic:4100\n",
      "Enter employee branch:Mumbai\n",
      "Enter employee id:9\n",
      "Enter employee name:ajay\n",
      "Enter employee department:Account\n",
      "Enter employee basic:6700\n",
      "Enter employee branch:Surat\n",
      "Enter employee id:10\n",
      "Enter employee name:rohit\n",
      "Enter employee department:IT\n",
      "Enter employee basic:7000\n",
      "Enter employee branch:Mumbai\n"
     ]
    }
   ],
   "source": [
    "insert_records_user()"
   ]
  },
  {
   "cell_type": "code",
   "execution_count": 18,
   "id": "ba8eabfe",
   "metadata": {},
   "outputs": [],
   "source": [
    "update()"
   ]
  },
  {
   "cell_type": "code",
   "execution_count": 19,
   "id": "cd64a4b4",
   "metadata": {},
   "outputs": [
    {
     "name": "stdout",
     "output_type": "stream",
     "text": [
      "ALL Records:\n",
      "(1, 'om', ' Account', 5500, 'Surat')\n",
      "(2, 'sai', 'HR', 5600, 'Mumbai')\n",
      "(3, 'ram', 'Account', 6000, 'Bangalore')\n",
      "(4, 'anil', 'IT', 6200, 'Delhi')\n",
      "(5, 'sunil', 'Inventory', 4950, 'Surat')\n",
      "(6, 'ashok', 'HR', 6500, 'Ahmadabad')\n",
      "(7, 'bruce', 'Inventory', 5300, 'Kolkata')\n",
      "(8, 'vijay', 'IT', 4100, 'Mumbai')\n",
      "(9, 'ajay', 'Account', 7370.000000000001, 'Surat')\n",
      "(10, 'rohit', 'IT', 7000, 'Mumbai')\n"
     ]
    }
   ],
   "source": [
    "print_record()"
   ]
  },
  {
   "cell_type": "code",
   "execution_count": 20,
   "id": "7e15897b",
   "metadata": {},
   "outputs": [
    {
     "name": "stdout",
     "output_type": "stream",
     "text": [
      "deprtment is HR and IT:\n",
      "(2, 'sai', 'HR', 5600, 'Mumbai')\n",
      "(4, 'anil', 'IT', 6200, 'Delhi')\n",
      "(6, 'ashok', 'HR', 6500, 'Ahmadabad')\n",
      "(8, 'vijay', 'IT', 4100, 'Mumbai')\n",
      "(10, 'rohit', 'IT', 7000, 'Mumbai')\n"
     ]
    }
   ],
   "source": [
    "print_record_HR_IT()"
   ]
  },
  {
   "cell_type": "code",
   "execution_count": 21,
   "id": "bcd4dfa0",
   "metadata": {},
   "outputs": [
    {
     "name": "stdout",
     "output_type": "stream",
     "text": [
      "Record ORDER BY DEPT:\n",
      "(1, 'om', ' Account', 5500, 'Surat')\n",
      "(3, 'ram', 'Account', 6000, 'Bangalore')\n",
      "(9, 'ajay', 'Account', 7370.000000000001, 'Surat')\n",
      "(2, 'sai', 'HR', 5600, 'Mumbai')\n",
      "(6, 'ashok', 'HR', 6500, 'Ahmadabad')\n",
      "(4, 'anil', 'IT', 6200, 'Delhi')\n",
      "(8, 'vijay', 'IT', 4100, 'Mumbai')\n",
      "(10, 'rohit', 'IT', 7000, 'Mumbai')\n",
      "(5, 'sunil', 'Inventory', 4950, 'Surat')\n",
      "(7, 'bruce', 'Inventory', 5300, 'Kolkata')\n"
     ]
    }
   ],
   "source": [
    "print_record_orderby_dept()"
   ]
  },
  {
   "cell_type": "code",
   "execution_count": 22,
   "id": "3214143d",
   "metadata": {},
   "outputs": [
    {
     "name": "stdout",
     "output_type": "stream",
     "text": [
      "Basic>6000:\n",
      "(4, 'anil', 'IT', 6200, 'Delhi')\n",
      "(6, 'ashok', 'HR', 6500, 'Ahmadabad')\n",
      "(9, 'ajay', 'Account', 7370.000000000001, 'Surat')\n",
      "(10, 'rohit', 'IT', 7000, 'Mumbai')\n"
     ]
    }
   ],
   "source": [
    "print_record_basic()"
   ]
  },
  {
   "cell_type": "code",
   "execution_count": 23,
   "id": "f62b1d6e",
   "metadata": {},
   "outputs": [
    {
     "name": "stdout",
     "output_type": "stream",
     "text": [
      "employee name second char is r:\n",
      "(7, 'bruce', 'Inventory', 5300, 'Kolkata')\n"
     ]
    }
   ],
   "source": [
    "print_record_ename_seccond_char_r()"
   ]
  },
  {
   "cell_type": "code",
   "execution_count": 24,
   "id": "b994da9e",
   "metadata": {},
   "outputs": [
    {
     "name": "stdout",
     "output_type": "stream",
     "text": [
      "Grouping:\n",
      "('Account', 2)\n",
      "('Inventory', 2)\n"
     ]
    }
   ],
   "source": [
    "grouping()"
   ]
  },
  {
   "cell_type": "code",
   "execution_count": 25,
   "id": "49ea0c04",
   "metadata": {},
   "outputs": [
    {
     "name": "stdout",
     "output_type": "stream",
     "text": [
      "branch name in descending order:\n",
      "(6, 'ashok', 'HR', 6500, 'Ahmadabad')\n",
      "(3, 'ram', 'Account', 6000, 'Bangalore')\n",
      "(4, 'anil', 'IT', 6200, 'Delhi')\n",
      "(7, 'bruce', 'Inventory', 5300, 'Kolkata')\n",
      "(2, 'sai', 'HR', 5600, 'Mumbai')\n",
      "(8, 'vijay', 'IT', 4100, 'Mumbai')\n",
      "(10, 'rohit', 'IT', 7000, 'Mumbai')\n",
      "(1, 'om', ' Account', 5500, 'Surat')\n",
      "(5, 'sunil', 'Inventory', 4950, 'Surat')\n",
      "(9, 'ajay', 'Account', 7370.000000000001, 'Surat')\n"
     ]
    }
   ],
   "source": [
    "branch_descending()"
   ]
  },
  {
   "cell_type": "code",
   "execution_count": 26,
   "id": "f467543e",
   "metadata": {},
   "outputs": [],
   "source": [
    "cur.close()"
   ]
  }
 ],
 "metadata": {
  "kernelspec": {
   "display_name": "Python 3 (ipykernel)",
   "language": "python",
   "name": "python3"
  },
  "language_info": {
   "codemirror_mode": {
    "name": "ipython",
    "version": 3
   },
   "file_extension": ".py",
   "mimetype": "text/x-python",
   "name": "python",
   "nbconvert_exporter": "python",
   "pygments_lexer": "ipython3",
   "version": "3.10.10"
  }
 },
 "nbformat": 4,
 "nbformat_minor": 5
}
